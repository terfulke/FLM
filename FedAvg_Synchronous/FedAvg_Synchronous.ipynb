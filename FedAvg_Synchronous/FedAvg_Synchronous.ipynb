{
 "cells": [
  {
   "cell_type": "code",
   "execution_count": 4,
   "metadata": {},
   "outputs": [
    {
     "name": "stdout",
     "output_type": "stream",
     "text": [
      "Dataset URL: https://www.kaggle.com/datasets/parisrohan/credit-score-classification\n",
      "License(s): CC0-1.0\n",
      "Downloading credit-score-classification.zip to ./dataSets\n",
      "  0%|                                               | 0.00/9.51M [00:00<?, ?B/s]\n",
      "100%|██████████████████████████████████████| 9.51M/9.51M [00:00<00:00, 1.54GB/s]\n",
      "unzip:  cannot find or open ./data/credit-score-classification.zip, ./data/credit-score-classification.zip.zip or ./data/credit-score-classification.zip.ZIP.\n"
     ]
    }
   ],
   "source": [
    "import json\n",
    "import os\n",
    "\n",
    "# Load kaggle.json manually\n",
    "with open(\"/Users/sagarsikdar/.kaggle/kaggle.json\", \"r\") as f:\n",
    "    kaggle_creds = json.load(f)\n",
    "\n",
    "os.environ[\"KAGGLE_USERNAME\"] = kaggle_creds[\"username\"]\n",
    "os.environ[\"KAGGLE_KEY\"] = kaggle_creds[\"key\"]\n",
    "\n",
    "\n",
    "!kaggle datasets download -d parisrohan/credit-score-classification -p ./dataSets\n",
    "!unzip -o ./data/credit-score-classification.zip -d ./dataSets/credit_score\n"
   ]
  },
  {
   "cell_type": "code",
   "execution_count": 13,
   "metadata": {},
   "outputs": [],
   "source": [
    "import pandas as pd\n",
    "from sklearn.preprocessing import LabelEncoder, StandardScaler\n",
    "from sklearn.model_selection import train_test_split\n",
    "import numpy as np"
   ]
  },
  {
   "cell_type": "code",
   "execution_count": 14,
   "metadata": {},
   "outputs": [
    {
     "name": "stderr",
     "output_type": "stream",
     "text": [
      "/var/folders/hy/1pg7q6214tz0wf60z8hmz55h0000gn/T/ipykernel_34779/3694272423.py:1: DtypeWarning: Columns (26) have mixed types. Specify dtype option on import or set low_memory=False.\n",
      "  df = pd.read_csv(\"./dataSets/credit-score-classification/train.csv\")\n"
     ]
    }
   ],
   "source": [
    "df = pd.read_csv(\"./dataSets/credit-score-classification/train.csv\")\n",
    "df.dropna(inplace=True)\n",
    "df.drop(columns=[\"ID\", \"Customer_ID\", \"Name\"], inplace=True, errors=\"ignore\")"
   ]
  },
  {
   "cell_type": "code",
   "execution_count": 16,
   "metadata": {},
   "outputs": [],
   "source": [
    "for col in df.columns:\n",
    "    if df[col].dtype == 'object':\n",
    "        # Force every value to a string, even numbers\n",
    "        df[col] = df[col].astype(str)\n",
    "        # Now encode\n",
    "        df[col] = LabelEncoder().fit_transform(df[col])"
   ]
  },
  {
   "cell_type": "code",
   "execution_count": 17,
   "metadata": {},
   "outputs": [],
   "source": [
    "df[\"Credit_Score\"] = df[\"Credit_Score\"]  # already encoded above if object\n",
    "features = df.drop(\"Credit_Score\", axis=1)\n",
    "target   = df[\"Credit_Score\"]"
   ]
  },
  {
   "cell_type": "code",
   "execution_count": 18,
   "metadata": {},
   "outputs": [],
   "source": [
    "scaler = StandardScaler()\n",
    "features_scaled = scaler.fit_transform(features)"
   ]
  },
  {
   "cell_type": "code",
   "execution_count": 19,
   "metadata": {},
   "outputs": [],
   "source": [
    "data = pd.DataFrame(features_scaled, columns=features.columns)\n",
    "data[\"target\"] = target.to_numpy()"
   ]
  },
  {
   "cell_type": "code",
   "execution_count": null,
   "metadata": {},
   "outputs": [],
   "source": []
  }
 ],
 "metadata": {
  "kernelspec": {
   "display_name": "myvenv",
   "language": "python",
   "name": "python3"
  },
  "language_info": {
   "codemirror_mode": {
    "name": "ipython",
    "version": 3
   },
   "file_extension": ".py",
   "mimetype": "text/x-python",
   "name": "python",
   "nbconvert_exporter": "python",
   "pygments_lexer": "ipython3",
   "version": "3.9.18"
  },
  "orig_nbformat": 4
 },
 "nbformat": 4,
 "nbformat_minor": 2
}
